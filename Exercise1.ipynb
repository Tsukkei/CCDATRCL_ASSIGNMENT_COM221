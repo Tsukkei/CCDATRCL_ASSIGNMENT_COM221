{
  "nbformat": 4,
  "nbformat_minor": 0,
  "metadata": {
    "colab": {
      "provenance": [],
      "authorship_tag": "ABX9TyPJh6jPBQBC1atig5yQxlGu",
      "include_colab_link": true
    },
    "kernelspec": {
      "name": "python3",
      "display_name": "Python 3"
    },
    "language_info": {
      "name": "python"
    }
  },
  "cells": [
    {
      "cell_type": "markdown",
      "metadata": {
        "id": "view-in-github",
        "colab_type": "text"
      },
      "source": [
        "<a href=\"https://colab.research.google.com/github/Tsukkei/CCDATRCL_ASSIGNMENT_COM221/blob/main/Exercise1.ipynb\" target=\"_parent\"><img src=\"https://colab.research.google.com/assets/colab-badge.svg\" alt=\"Open In Colab\"/></a>"
      ]
    },
    {
      "cell_type": "code",
      "execution_count": null,
      "metadata": {
        "colab": {
          "base_uri": "https://localhost:8080/"
        },
        "id": "DmLD5dR6zw3k",
        "outputId": "b7aa351e-3ff5-4f16-c2da-e40bcc2a2dad"
      },
      "outputs": [
        {
          "output_type": "stream",
          "name": "stdout",
          "text": [
            "Earl -> Neil -> Brando -> Francyne -> Kristel -> "
          ]
        }
      ],
      "source": [
        "#Singly LinkedList\n",
        "\n",
        "class Node:\n",
        "    def __init__(self, data):\n",
        "        self.data = data\n",
        "        self.next = None\n",
        "class LinkedList:\n",
        "    def __init__(self):\n",
        "      self.head = None\n",
        "\n",
        "    def traverse(self, node):\n",
        "      while node:\n",
        "        print(node.data, end=\" -> \")\n",
        "        node = node.next\n",
        "\n",
        "linked_list = LinkedList()\n",
        "\n",
        "linked_list.head = Node(\"Earl\")\n",
        "node_b = Node(\"Neil\")\n",
        "node_c = Node(\"Brando\")\n",
        "node_d = Node(\"Francyne\")\n",
        "node_e = Node(\"Kristel\")\n",
        "\n",
        "linked_list.head.next = node_b\n",
        "node_b.next = node_c\n",
        "node_c.next = node_d\n",
        "node_d.next = node_e\n",
        "\n",
        "linked_list.traverse(linked_list.head)"
      ]
    },
    {
      "cell_type": "code",
      "source": [
        "# @title Default title text\n",
        "#Doubly LinkedList\n",
        "\n",
        "class Node:\n",
        "    def __init__(self, data):\n",
        "        self.data = data\n",
        "        self.next = None\n",
        "        self.prev = None\n",
        "\n",
        "class DoublyLinkedList:\n",
        "    def __init__(self):\n",
        "      self.head = None\n",
        "\n",
        "    def traverse(self, node):\n",
        "      while node:\n",
        "        print(node.data, end=\" -> \")\n",
        "        node = node.next\n",
        "\n",
        "doubly_linked_list = DoublyLinkedList()\n",
        "\n",
        "doubly_linked_list.head = Node(\"Earl\")\n",
        "node_b = Node(\"Neil\")\n",
        "node_c = Node(\"Brando\")\n",
        "node_d = Node(\"Francyne\")\n",
        "node_e = Node(\"Kristel\")\n",
        "\n",
        "doubly_linked_list.head.prev = None\n",
        "doubly_linked_list.head.next = node_b\n",
        "\n",
        "node_b.prev = doubly_linked_list.head\n",
        "node_b.next = node_c\n",
        "\n",
        "node_c.prev = node_b\n",
        "node_c.next = node_d\n",
        "\n",
        "node_d.prev = node_c\n",
        "node_d.next = node_e\n",
        "\n",
        "node_e.prev = node_d\n",
        "\n",
        "print(\"head node is: \", doubly_linked_list.head.data)\n",
        "print(\"the next node is: \", doubly_linked_list.head.next.data)\n",
        "\n",
        "print(\"-----\")\n",
        "\n",
        "print(\"the third node is: \", node_c.data)\n",
        "print(\"the previous of brando was: \",node_c.prev.data)\n",
        "print(\"the next node is: \", node_c.next.data)\n",
        "\n",
        "print(\"-----\")\n",
        "\n",
        "print(\"the fourth node is: \", node_d.data)\n",
        "print(\"the previous of francyne was: \",node_d.prev.data)\n",
        "print(\"the next node is: \", node_d.next.data)\n",
        "\n",
        "print(\"-----\")\n",
        "\n",
        "print(\"the last node is: \", node_e.data)\n",
        "print(\"the previous of kristel was: \",node_e.prev.data)"
      ],
      "metadata": {
        "colab": {
          "base_uri": "https://localhost:8080/"
        },
        "id": "qasUw_hC7X82",
        "outputId": "17250182-dd3a-4639-cd4b-ed8941f2a7b0"
      },
      "execution_count": null,
      "outputs": [
        {
          "output_type": "stream",
          "name": "stdout",
          "text": [
            "head node is:  Earl\n",
            "the next node is:  Neil\n",
            "-----\n",
            "the third node is:  Brando\n",
            "the previous of brando was:  Neil\n",
            "the next node is:  Francyne\n",
            "-----\n",
            "the fourth node is:  Francyne\n",
            "the previous of francyne was:  Brando\n",
            "the next node is:  Kristel\n",
            "-----\n",
            "the last node is:  Kristel\n",
            "the previous of kristel was:  Francyne\n"
          ]
        }
      ]
    },
    {
      "cell_type": "code",
      "source": [
        "#Circular LinkedList\n",
        "\n",
        "class Node:\n",
        "    def __init__(self, data):\n",
        "        self.data = data\n",
        "        self.next = None\n",
        "\n",
        "class CircularLinkedList:\n",
        "\n",
        "    def __init__(self):\n",
        "      self.head = None\n",
        "\n",
        "    def traverse(self, node):\n",
        "      head = node\n",
        "\n",
        "      while node:\n",
        "        print(node.data, end=\" -> \")\n",
        "        node = node.next\n",
        "\n",
        "        if node == head:\n",
        "          break\n",
        "circular_linked_list = CircularLinkedList()\n",
        "\n",
        "circular_linked_list.head = Node(\"Earl\")\n",
        "node_b = Node(\"Neil\")\n",
        "node_c = Node(\"Brando\")\n",
        "node_d = Node(\"Francyne\")\n",
        "node_e = Node(\"Kristel\")\n",
        "\n",
        "circular_linked_list.head.next = node_b\n",
        "node_b.next = node_c\n",
        "node_c.next = node_d\n",
        "node_d.next = node_e\n",
        "node_e.next = circular_linked_list.head\n",
        "\n",
        "print(\"head node is: \", circular_linked_list.head.data)\n",
        "print(\"the next node is: \", circular_linked_list.head.next.data)\n",
        "\n",
        "print(\"-----\")\n",
        "\n",
        "print(\"value of node_b is: \", node_b.data)\n",
        "print(\"the next node is: \", node_b.next.data)\n",
        "\n",
        "print(\"-----\")\n",
        "\n",
        "print(\"value of node_c is: \", node_c.data)\n",
        "print(\"the next node is: \", node_c.next.data)\n",
        "\n",
        "print(\"-----\")\n",
        "\n",
        "print(\"value of node_d is: \", node_d.data)\n",
        "print(\"the next node is: \", node_d.next.data)\n",
        "\n",
        "print(\"-----\")\n",
        "\n",
        "print(\"value of node_e is: \", node_e.data)\n",
        "print(\"the next node is: \", node_e.next.data)\n",
        "\n",
        "circular_linked_list.traverse(circular_linked_list.head)\n"
      ],
      "metadata": {
        "colab": {
          "base_uri": "https://localhost:8080/"
        },
        "id": "L1ZgV7mgBUt6",
        "outputId": "a1db7e47-cf49-4e9b-80b7-6fa0634ea737"
      },
      "execution_count": null,
      "outputs": [
        {
          "output_type": "stream",
          "name": "stdout",
          "text": [
            "head node is:  Earl\n",
            "the next node is:  Neil\n",
            "-----\n",
            "value of node_b is:  Neil\n",
            "the next node is:  Brando\n",
            "-----\n",
            "value of node_c is:  Brando\n",
            "the next node is:  Francyne\n",
            "-----\n",
            "value of node_d is:  Francyne\n",
            "the next node is:  Kristel\n",
            "-----\n",
            "value of node_e is:  Kristel\n",
            "the next node is:  Earl\n",
            "Earl -> Neil -> Brando -> Francyne -> Kristel -> "
          ]
        }
      ]
    }
  ]
}