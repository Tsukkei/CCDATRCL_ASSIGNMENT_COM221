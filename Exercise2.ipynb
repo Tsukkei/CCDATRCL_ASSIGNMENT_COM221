{
  "nbformat": 4,
  "nbformat_minor": 0,
  "metadata": {
    "colab": {
      "provenance": [],
      "authorship_tag": "ABX9TyODY6ZhyNgvo6dSWI0KDmWx",
      "include_colab_link": true
    },
    "kernelspec": {
      "name": "python3",
      "display_name": "Python 3"
    },
    "language_info": {
      "name": "python"
    }
  },
  "cells": [
    {
      "cell_type": "markdown",
      "metadata": {
        "id": "view-in-github",
        "colab_type": "text"
      },
      "source": [
        "<a href=\"https://colab.research.google.com/github/Tsukkei/CCDATRCL_ASSIGNMENT_COM221/blob/main/Exercise2.ipynb\" target=\"_parent\"><img src=\"https://colab.research.google.com/assets/colab-badge.svg\" alt=\"Open In Colab\"/></a>"
      ]
    },
    {
      "cell_type": "code",
      "execution_count": 2,
      "metadata": {
        "id": "XIw4-ux_u1L0"
      },
      "outputs": [],
      "source": [
        "# Creating a stack\n",
        "def create_stack():\n",
        "    stack = []\n",
        "    return stack\n",
        "\n",
        "def print_stack(stack):\n",
        "\n",
        "    if (check_empty(stack)):\n",
        "            return \"stack is empty\"\n",
        "\n",
        "    # Create a copy of the stack and reverse the elements\n",
        "    tempStack = stack.copy()\n",
        "    tempStack.reverse()\n",
        "\n",
        "    # Print all elements using a loop\n",
        "    for i in tempStack:\n",
        "        print(i)\n",
        "\n",
        "    # Delete the copy to free up memory\n",
        "    del tempStack\n",
        "\n",
        "# Creating an empty stack\n",
        "def check_empty(stack):\n",
        "    return len(stack) == 0\n",
        "\n",
        "\n",
        "# Adding items into the stack\n",
        "def push(stack, item):\n",
        "    stack.append(item)\n",
        "    print(\"pushed item: \" , item)\n",
        "\n",
        "\n",
        "# Removing an element from the stack\n",
        "def pop(stack):\n",
        "    if (check_empty(stack)):\n",
        "        return \"stack is empty\"\n",
        "\n",
        "    return stack.pop()\n",
        "\n",
        "def peek(stack):\n",
        "\n",
        "    # Use negative indexing to display the last element of the list\n",
        "    print(stack[-1])\n"
      ]
    },
    {
      "cell_type": "markdown",
      "source": [
        "#### 1. Create a burger stack.  \n",
        "\n",
        "The output of the stack should be in this order:\n",
        "\n",
        "- Bun\n",
        "\n",
        "- Tomato\n",
        "\n",
        "- Lettuce\n",
        "\n",
        "- Cheese\n",
        "\n",
        "- Patty\n",
        "\n",
        "- Bun"
      ],
      "metadata": {
        "id": "YGq9yWdj2Y-X"
      }
    },
    {
      "cell_type": "code",
      "source": [
        "# Put your answer here\n",
        "\n",
        "burger_stack = create_stack()\n",
        "\n",
        "push(burger_stack, \"Bun\")\n",
        "push(burger_stack, \"Tomato\")\n",
        "push(burger_stack, \"Lettuce\")\n",
        "push(burger_stack, \"Cheese\")\n",
        "push(burger_stack, \"Patty\")\n",
        "push(burger_stack, \"Bun\")\n",
        "\n",
        "print(\"\")\n",
        "print_stack(burger_stack)"
      ],
      "metadata": {
        "id": "JbACmOfxzaJ5",
        "colab": {
          "base_uri": "https://localhost:8080/"
        },
        "outputId": "5acf5d83-2a21-4e48-c574-f1e6c8b56065"
      },
      "execution_count": null,
      "outputs": [
        {
          "output_type": "stream",
          "name": "stdout",
          "text": [
            "pushed item:  Bun\n",
            "pushed item:  Tomato\n",
            "pushed item:  Lettuce\n",
            "pushed item:  Cheese\n",
            "pushed item:  Patty\n",
            "pushed item:  Bun\n",
            "\n",
            "Bun\n",
            "Patty\n",
            "Cheese\n",
            "Lettuce\n",
            "Tomato\n",
            "Bun\n"
          ]
        }
      ]
    },
    {
      "cell_type": "markdown",
      "source": [
        "#### 2. Reverse a string using a stack\n",
        "\n",
        "Given two stacks:\n",
        "\n",
        "**name_stack = ['E', 'L', 'I', 'Z', 'E', 'R']**\n",
        "\n",
        "**reversed_stack = []**\n",
        "\n",
        "Use your **firstname** and pop each letter from the **name_stack** and push each element into the **reversed_stack**\n",
        "\n",
        "-----------------\n",
        "**Expected output:**\n",
        "\n",
        "print(reversed_stack)\n",
        "\n",
        "['R', 'E', 'Z', 'I', 'L', 'E']"
      ],
      "metadata": {
        "id": "bT-CUAFA2dJE"
      }
    },
    {
      "cell_type": "code",
      "source": [
        "# Put your answer here\n",
        "\n",
        "name_stack = ['E', 'A', 'R', 'L']\n",
        "reversed_stack = create_stack()\n",
        "\n",
        "while not check_empty(name_stack):\n",
        "   letter = pop(name_stack)\n",
        "   push(reversed_stack, letter)\n",
        "\n",
        "print(\"\")\n",
        "print(reversed_stack)"
      ],
      "metadata": {
        "id": "_rz8RNOa2jWk",
        "colab": {
          "base_uri": "https://localhost:8080/"
        },
        "outputId": "b1290706-80ad-4e0a-dd02-8a951047f735"
      },
      "execution_count": null,
      "outputs": [
        {
          "output_type": "stream",
          "name": "stdout",
          "text": [
            "pushed item:  L\n",
            "pushed item:  R\n",
            "pushed item:  A\n",
            "pushed item:  E\n",
            "\n",
            "['L', 'R', 'A', 'E']\n"
          ]
        }
      ]
    },
    {
      "cell_type": "markdown",
      "source": [
        "#### 3. Remove elements using a stack\n",
        "\n",
        "Given this stack:\n",
        "\n",
        "numbers = [1,2,3,4,5,6,7,8,9,10]\n",
        "\n",
        "new_stack = []\n",
        "\n",
        "Using the **pop()** function, push elements in the **new_stack** if they are an **even number**\n",
        "\n",
        "-----------------\n",
        "\n",
        "**Expected output:**\n",
        "\n",
        "print(new_stack)\n",
        "\n",
        "[2,4,6,8,10]"
      ],
      "metadata": {
        "id": "TginXg4b2puc"
      }
    },
    {
      "cell_type": "code",
      "source": [
        "# Put your answer here\n",
        "num_stack = create_stack()\n",
        "num = [1, 2, 3, 4, 5, 6, 7, 8, 9, 10]\n",
        "\n",
        "while len(num) > 0:\n",
        "  numbers = num.pop()\n",
        "\n",
        "  if numbers % 2 == 0:\n",
        "    push(num_stack, numbers)\n",
        "\n",
        "num_stack.reverse()\n",
        "\n",
        "print(\"\")\n",
        "print(num_stack)"
      ],
      "metadata": {
        "id": "x6mBstyS2vY8",
        "colab": {
          "base_uri": "https://localhost:8080/"
        },
        "outputId": "615d93e6-a735-4c8f-df11-8ac622111f53"
      },
      "execution_count": null,
      "outputs": [
        {
          "output_type": "stream",
          "name": "stdout",
          "text": [
            "pushed item:  10\n",
            "pushed item:  8\n",
            "pushed item:  6\n",
            "pushed item:  4\n",
            "pushed item:  2\n",
            "\n",
            "[2, 4, 6, 8, 10]\n"
          ]
        }
      ]
    },
    {
      "cell_type": "markdown",
      "source": [
        "#### 4. Inserting elements into a stack\n",
        "\n",
        "Given two stacks:\n",
        "\n",
        "my_stack = ['E', 'L', 'I', 'Z', 'E', 'R', 'P', 'O', 'N', 'I', 'O', 'J', 'R']\n",
        "\n",
        "empty_stack = []\n",
        "\n",
        "Use **pop()** to get each element from  **my_stack** and use **push()** to insert the element to **empty_stack** only if:\n",
        "\n",
        "1. The element is a **vowel**\n",
        "2. The element does not exist in **empty_stack**\n",
        "\n",
        "----------------------\n",
        "\n",
        "**Expected output:**\n",
        "\n",
        "print_stack(empty_stack)\n",
        "\n",
        "['E', 'I', 'O']"
      ],
      "metadata": {
        "id": "FRhqI2dO2wus"
      }
    },
    {
      "cell_type": "code",
      "source": [
        "#Put your answer here\n",
        "\n",
        "name = ['E', 'L', 'I', 'Z', 'E', 'R', 'P', 'O', 'N', 'I', 'O', 'J', 'R']\n",
        "empty_stack = create_stack()\n",
        "\n",
        "for i in name:\n",
        "  if i in 'AEIOU'and i not in empty_stack:\n",
        "    push(empty_stack, i)\n",
        "\n",
        "print(\"\")\n",
        "print(empty_stack)"
      ],
      "metadata": {
        "id": "hLSLj1ku22jc",
        "colab": {
          "base_uri": "https://localhost:8080/"
        },
        "outputId": "e05a6955-e0f1-48ce-d848-dbead3f7dc50"
      },
      "execution_count": null,
      "outputs": [
        {
          "output_type": "stream",
          "name": "stdout",
          "text": [
            "pushed item:  E\n",
            "pushed item:  I\n",
            "pushed item:  O\n",
            "\n",
            "['E', 'I', 'O']\n"
          ]
        }
      ]
    },
    {
      "cell_type": "markdown",
      "source": [
        "#### 5. Sort elements in a stack\n",
        "\n",
        "Given two stacks:\n",
        "\n",
        "number_stack = [3,1,2]\n",
        "\n",
        "sorted_stack = []\n",
        "\n",
        "Create a **sort()** function to pop each element from the **number_stack** and push each element into the **sorted_stack**. The elements in **sorted_stack** must be in ascending order.\n",
        "\n",
        "----------------\n",
        "\n",
        "**Hint:**\n",
        "\n",
        "| iteration | number_stack | sorted_stack |\n",
        "| --- | --- | --- |\n",
        "| 1 | [3, 1, 2] | [] |\n",
        "| 2 | [3, 1] | [2] |\n",
        "| 3 | [3, 2] | [1] |\n",
        "| 4 | [3] | [1, 2] |\n",
        "| 5 | [] | [1, 2, 3] |\n",
        "\n",
        "**Expected output:**\n",
        "\n",
        "print(sorted_stack)\n",
        "\n",
        "[1, 2, 3]"
      ],
      "metadata": {
        "id": "0fN39gc628nb"
      }
    },
    {
      "cell_type": "code",
      "source": [
        "#Put your answer here\n",
        "\n",
        "def sort(number_stack, sorted_stack):\n",
        " while not check_empty(number_stack):\n",
        "    temp = pop(number_stack)\n",
        "\n",
        "    while not check_empty(sorted_stack) and sorted_stack[-1] > temp:\n",
        "      push(number_stack, pop(sorted_stack))\n",
        "\n",
        "    push(sorted_stack, temp)\n",
        "\n",
        "number_stack = [3, 1, 2]\n",
        "sorted_stack = []\n",
        "\n",
        "sort(number_stack, sorted_stack)\n",
        "\n",
        "print(\"\")\n",
        "print(\"Output:\")\n",
        "print(sorted_stack)"
      ],
      "metadata": {
        "id": "HDCpt_MS3SFz",
        "colab": {
          "base_uri": "https://localhost:8080/"
        },
        "outputId": "4e770025-9fd9-4a00-daf8-b59d1aa16091"
      },
      "execution_count": 3,
      "outputs": [
        {
          "output_type": "stream",
          "name": "stdout",
          "text": [
            "pushed item:  2\n",
            "pushed item:  2\n",
            "pushed item:  1\n",
            "pushed item:  2\n",
            "pushed item:  3\n",
            "\n",
            "Output:\n",
            "[1, 2, 3]\n"
          ]
        }
      ]
    }
  ]
}