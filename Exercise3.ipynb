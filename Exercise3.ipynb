{
  "nbformat": 4,
  "nbformat_minor": 0,
  "metadata": {
    "colab": {
      "provenance": [],
      "authorship_tag": "ABX9TyMPKb6Jjx2ug3w3GIQU+x9V",
      "include_colab_link": true
    },
    "kernelspec": {
      "name": "python3",
      "display_name": "Python 3"
    },
    "language_info": {
      "name": "python"
    }
  },
  "cells": [
    {
      "cell_type": "markdown",
      "metadata": {
        "id": "view-in-github",
        "colab_type": "text"
      },
      "source": [
        "<a href=\"https://colab.research.google.com/github/Tsukkei/CCDATRCL_ASSIGNMENT_COM221/blob/main/Exercise3.ipynb\" target=\"_parent\"><img src=\"https://colab.research.google.com/assets/colab-badge.svg\" alt=\"Open In Colab\"/></a>"
      ]
    },
    {
      "cell_type": "markdown",
      "source": [
        "Pre-defined Queue class"
      ],
      "metadata": {
        "id": "PEZODGQlaQcU"
      }
    },
    {
      "cell_type": "code",
      "execution_count": 1,
      "metadata": {
        "id": "s8SOuOs1YK2u"
      },
      "outputs": [],
      "source": [
        "class Queue:\n",
        "    def __init__(self):\n",
        "        self.queue = []\n",
        "\n",
        "    # Add an element\n",
        "    def enqueue(self, item):\n",
        "        self.queue.append(item)\n",
        "\n",
        "    # Remove an element\n",
        "    def dequeue(self):\n",
        "        if len(self.queue) < 1:\n",
        "            return None\n",
        "        return self.queue.pop(0)\n",
        "\n",
        "    # Display  the queue\n",
        "    def display(self):\n",
        "        print(self.queue)\n",
        "\n",
        "    def size(self):\n",
        "        return len(self.queue)\n",
        "\n",
        "    def peek(self):\n",
        "        return self.queue[0]\n"
      ]
    },
    {
      "cell_type": "markdown",
      "source": [
        "Pre-defined Deque class"
      ],
      "metadata": {
        "id": "93vUM6U0aPtU"
      }
    },
    {
      "cell_type": "code",
      "source": [
        "class Deque:\n",
        "    def __init__(self):\n",
        "        self.items = []\n",
        "\n",
        "    def isEmpty(self):\n",
        "        return self.items == []\n",
        "\n",
        "    def addRear(self, item):\n",
        "        self.items.append(item)\n",
        "\n",
        "    def addFront(self, item):\n",
        "        self.items.insert(0, item)\n",
        "\n",
        "    def removeFront(self):\n",
        "        return self.items.pop(0)\n",
        "\n",
        "    def removeRear(self):\n",
        "        return self.items.pop()\n",
        "\n",
        "    def size(self):\n",
        "        return len(self.items)"
      ],
      "metadata": {
        "id": "q6fECtLpaMF9"
      },
      "execution_count": 2,
      "outputs": []
    },
    {
      "cell_type": "markdown",
      "source": [
        "Pre-defined Circular Queue class"
      ],
      "metadata": {
        "id": "pI1x_dNOadyz"
      }
    },
    {
      "cell_type": "code",
      "source": [
        "class CircularQueue():\n",
        "\n",
        "    def __init__(self, k):\n",
        "        self.k = k\n",
        "        self.queue = [None] * k\n",
        "        self.head = self.tail = -1\n",
        "\n",
        "    # Insert an element into the circular queue\n",
        "    def enqueue(self, data):\n",
        "\n",
        "        if ((self.tail + 1) % self.k == self.head):\n",
        "            print(\"The circular queue is full\\n\")\n",
        "\n",
        "        elif (self.head == -1):\n",
        "            self.head = 0\n",
        "            self.tail = 0\n",
        "            self.queue[self.tail] = data\n",
        "        else:\n",
        "            self.tail = (self.tail + 1) % self.k\n",
        "            self.queue[self.tail] = data\n",
        "\n",
        "    # Delete an element from the circular queue\n",
        "    def dequeue(self):\n",
        "        if (self.head == -1):\n",
        "            print(\"The circular queue is empty\\n\")\n",
        "\n",
        "        elif (self.head == self.tail):\n",
        "            temp = self.queue[self.head]\n",
        "            self.head = -1\n",
        "            self.tail = -1\n",
        "            return temp\n",
        "        else:\n",
        "            temp = self.queue[self.head]\n",
        "            self.head = (self.head + 1) % self.k\n",
        "            return temp\n",
        "\n",
        "    def printCQueue(self):\n",
        "        if(self.head == -1):\n",
        "            print(\"No element in the circular queue\")\n",
        "\n",
        "        elif (self.tail >= self.head):\n",
        "            for i in range(self.head, self.tail + 1):\n",
        "                print(self.queue[i], end=\" \")\n",
        "            print()\n",
        "        else:\n",
        "            for i in range(self.head, self.k):\n",
        "                print(self.queue[i], end=\" \")\n",
        "            for i in range(0, self.tail + 1):\n",
        "                print(self.queue[i], end=\" \")\n",
        "            print()\n"
      ],
      "metadata": {
        "id": "OHToribHaeUL"
      },
      "execution_count": 3,
      "outputs": []
    },
    {
      "cell_type": "markdown",
      "source": [
        "Pre-defined Priority Queue Class"
      ],
      "metadata": {
        "id": "2MGdHeN_aghb"
      }
    },
    {
      "cell_type": "code",
      "source": [
        "class PriorityQueueNode:\n",
        "    def __init__(self, value, pr):\n",
        "\n",
        "        self.data = value\n",
        "        self.priority = pr\n",
        "        self.next = None"
      ],
      "metadata": {
        "id": "t8dWjgPvajJr"
      },
      "execution_count": 5,
      "outputs": []
    },
    {
      "cell_type": "code",
      "source": [
        "class PriorityQueue:\n",
        "\n",
        "\tdef __init__(self):\n",
        "\n",
        "\t\tself.front = None\n",
        "\n",
        "\t# Method to check Priority Queue is Empty\n",
        "\t# or not if Empty then it will return True\n",
        "\t# Otherwise False\n",
        "\tdef isEmpty(self):\n",
        "\n",
        "\t\treturn True if self.front == None else False\n",
        "\n",
        "\t# Method to add items in Priority Queue\n",
        "\t# According to their priority value\n",
        "\tdef push(self, value, priority):\n",
        "\n",
        "\t\t# Condition check for checking Priority\n",
        "\t\t# Queue is empty or not\n",
        "\t\tif self.isEmpty() == True:\n",
        "\n",
        "\t\t\t# Creating a new node and assigning\n",
        "\t\t\t# it to class variable\n",
        "\t\t\tself.front = PriorityQueueNode(value, priority)\n",
        "\n",
        "\t\t\t# Returning 1 for successful execution\n",
        "\t\t\treturn 1\n",
        "\n",
        "\t\telse:\n",
        "\n",
        "\t\t\t# Special condition check to see that\n",
        "\t\t\t# first node priority value\n",
        "\t\t\tif self.front.priority > priority:\n",
        "\t\t\t\t# Creating a new node\n",
        "\t\t\t\tnewNode = PriorityQueueNode(value, priority)\n",
        "\t\t\t\t# Updating the new node next value\n",
        "\t\t\t\tnewNode.next = self.front\n",
        "\n",
        "\t\t\t\t# Assigning it to self.front\n",
        "\t\t\t\tself.front = newNode\n",
        "\n",
        "\t\t\t\t# Returning 1 for successful execution\n",
        "\t\t\t\treturn 1\n",
        "\n",
        "\t\t\telse:\n",
        "\n",
        "\t\t\t\t# Traversing through Queue until it\n",
        "\t\t\t\t# finds the next smaller priority node\n",
        "\t\t\t\ttemp = self.front\n",
        "\n",
        "\t\t\t\twhile temp.next:\n",
        "\t\t\t\t\t# If same priority node found then current\n",
        "\t\t\t\t\t# node will come after previous node\n",
        "\t\t\t\t\tif priority <= temp.next.priority:\n",
        "\t\t\t\t\t\tbreak\n",
        "\n",
        "\t\t\t\t\ttemp = temp.next\n",
        "\n",
        "\t\t\t\tnewNode = PriorityQueueNode(value, priority)\n",
        "\t\t\t\tnewNode.next = temp.next\n",
        "\t\t\t\ttemp.next = newNode\n",
        "\n",
        "\t\t\t\t# Returning 1 for successful execution\n",
        "\t\t\t\treturn 1\n",
        "\n",
        "\t# Method to remove high priority item\n",
        "\t# from the Priority Queue\n",
        "\tdef pop(self):\n",
        "\n",
        "\t\t# Condition check for checking\n",
        "\t\t# Priority Queue is empty or not\n",
        "\t\tif self.isEmpty() == True:\n",
        "\t\t\treturn\n",
        "\t\telse:\n",
        "\t\t\t# Removing high priority node from\n",
        "\t\t\t# Priority Queue, and updating front\n",
        "\t\t\t# with next node\n",
        "\t\t\tself.front = self.front.next\n",
        "\t\t\treturn 1\n",
        "\n",
        "\t# Method to return high priority node\n",
        "\t# value Not removing it\n",
        "\tdef peek(self):\n",
        "\t\t# Condition check for checking Priority\n",
        "\t\t# Queue is empty or not\n",
        "\t\tif self.isEmpty() == True:\n",
        "\t\t\treturn\n",
        "\t\telse:\n",
        "\t\t\treturn self.front.data\n",
        "\n",
        "\t# Method to Traverse through Priority\n",
        "\t# Queue\n",
        "\tdef traverse(self):\n",
        "\t\t# Condition check for checking Priority\n",
        "\t\t# Queue is empty or not\n",
        "\t\tif self.isEmpty() == True:\n",
        "\t\t\treturn \"Queue is Empty!\"\n",
        "\t\telse:\n",
        "\t\t\ttemp = self.front\n",
        "\t\t\twhile temp:\n",
        "\t\t\t\tprint(temp.data, end=\" \")\n",
        "\t\t\t\ttemp = temp.next\n"
      ],
      "metadata": {
        "id": "jVJrl1qlamWL"
      },
      "execution_count": 4,
      "outputs": []
    },
    {
      "cell_type": "markdown",
      "source": [
        "#### 1. Create a Queue\n",
        "\n",
        "- Each element should contain your name and your other classmates\n",
        "- There should be at least 5 elements in the queue\n",
        "- Put yourself at the end of the queue\n",
        "- Print all elements in the queue\n"
      ],
      "metadata": {
        "id": "j8znRmdGar6z"
      }
    },
    {
      "cell_type": "code",
      "source": [
        "# put your answer here\n",
        "queue = []\n",
        "\n",
        "queue.append(\"Earl\")\n",
        "queue.append(\"Allen\")\n",
        "queue.append(\"Andrew\")\n",
        "queue.append(\"Rovic\")\n",
        "queue.append(\"Miko\")\n",
        "\n",
        "your_name = \"Earl\"\n",
        "queue.append(your_name)\n",
        "\n",
        "for element in queue:\n",
        "    print(element)"
      ],
      "metadata": {
        "colab": {
          "base_uri": "https://localhost:8080/"
        },
        "id": "V6RQIHEGas2z",
        "outputId": "436c1298-09f6-48f4-cdb4-5dbcd6acf86b"
      },
      "execution_count": 7,
      "outputs": [
        {
          "output_type": "stream",
          "name": "stdout",
          "text": [
            "Earl\n",
            "Allen\n",
            "Andrew\n",
            "Rovic\n",
            "Miko\n",
            "Earl\n"
          ]
        }
      ]
    },
    {
      "cell_type": "markdown",
      "source": [
        "#### 2. Create a Deque\n",
        "\n",
        "Given the queue below,\n",
        "\n",
        "**Queue:**\n",
        "\n",
        "| Cat | Dog | Rabbit | Bird | Hamster\n",
        "| --- | --- | --- | --- | --- |\n",
        "\n",
        "**dequeue** each element and insert them into a **Deque** in the following order below:\n",
        "\n",
        "**Deque:**\n",
        "\n",
        "| Hamster | Bird | Rabbit | Dog | Cat\n",
        "| --- | --- | --- | --- | --- |\n",
        "\n",
        "**Expected output:**\n",
        "\n",
        "['Hamster','Bird', 'Rabbit', 'Dog', 'Cat']"
      ],
      "metadata": {
        "id": "Cxq3fhLLauhD"
      }
    },
    {
      "cell_type": "code",
      "source": [
        "# put your answer here\n",
        "\n",
        "from collections import deque\n",
        "\n",
        "queue = ['Cat', 'Dog', 'Rabbi', 'Bird', 'Hamster']\n",
        "\n",
        "deque_result = deque()\n",
        "\n",
        "while queue:\n",
        "  deque_result.appendleft(queue.pop(0))\n",
        "\n",
        "result_list = list(deque_result)\n",
        "\n",
        "print(result_list)"
      ],
      "metadata": {
        "colab": {
          "base_uri": "https://localhost:8080/"
        },
        "id": "taEGsYnRawtT",
        "outputId": "de147b24-ca22-410f-9988-a03d9ab4c4e3"
      },
      "execution_count": 8,
      "outputs": [
        {
          "output_type": "stream",
          "name": "stdout",
          "text": [
            "['Hamster', 'Bird', 'Rabbi', 'Dog', 'Cat']\n"
          ]
        }
      ]
    },
    {
      "cell_type": "markdown",
      "source": [
        "#### 3. Create a Circular Queue\n",
        "\n",
        "Given the queue below,\n",
        "\n",
        "**Queue:**\n",
        "\n",
        "| I | II | III | IV | V | VI | VII | VIII | IX | X | XI | XII\n",
        "| --- | --- | --- | --- | --- | --- | --- | --- | --- | --- | --- | --- |\n",
        "\n",
        "**dequeue** each element and insert them into a **Circular Deque** in the following order below:\n",
        "\n",
        "**Circular Queue:**\n",
        "\n",
        "<img src=\"clock.jpg\"/>\n",
        "\n",
        "**Expected output:**\n",
        "\n",
        "I II III IV V VI VII VIII IX X XI XII"
      ],
      "metadata": {
        "id": "Z3joJXUiazo7"
      }
    },
    {
      "cell_type": "code",
      "source": [
        "# put your answer here\n",
        "from collections import deque\n",
        "\n",
        "queue = ['I', 'II', 'III', 'IV', 'V', 'VI', 'VII', 'VIII', 'IX', 'X', 'XI', 'XII']\n",
        "\n",
        "circular_queue = deque(maxlen = len(queue))\n",
        "\n",
        "for item in queue:\n",
        "  circular_queue.append(item)\n",
        "\n",
        "result_list = list(circular_queue)\n",
        "\n",
        "print(' '.join(result_list))"
      ],
      "metadata": {
        "colab": {
          "base_uri": "https://localhost:8080/"
        },
        "id": "zH_g9Bwqa3yz",
        "outputId": "9321f26b-cacd-420b-9be4-a2c36cac67de"
      },
      "execution_count": 9,
      "outputs": [
        {
          "output_type": "stream",
          "name": "stdout",
          "text": [
            "I II III IV V VI VII VIII IX X XI XII\n"
          ]
        }
      ]
    },
    {
      "cell_type": "markdown",
      "source": [
        "#### 4. Create a Priority Queue\n",
        "\n",
        "Given the queue below,\n",
        "\n",
        "**Queue:**\n",
        "\n",
        "| Cat | Dog | Rabbit | Bird | Hamster\n",
        "| --- | --- | --- | --- | --- |\n",
        "\n",
        "\n",
        "**dequeue** each element and insert them into a **Priority Queue** with the following priority values\n",
        "\n",
        "**Priority Queue:**\n",
        "\n",
        "| Element | Priority |\n",
        "| --- | --- |\n",
        "| Hamster |  0 |\n",
        "| Bird |  1 |\n",
        "| Rabbit |  2 |\n",
        "| Dog |  3 |\n",
        "| Cat |  4 |\n",
        "\n",
        "**Expected output:**\n",
        "\n",
        "Hamster Bird Rabbit Dog Cat"
      ],
      "metadata": {
        "id": "1NdsP-6ga6Jr"
      }
    },
    {
      "cell_type": "code",
      "source": [
        "# put your answer here\n",
        "import heapq\n",
        "\n",
        "queue = ['Cat', 'Dog', 'Rabbit', 'Bird', 'Hamster']\n",
        "\n",
        "priority_values = {\n",
        "    'Hamster': 0,\n",
        "    'Bird': 1,\n",
        "    'Rabbit': 2,\n",
        "    'Dog': 3,\n",
        "    'Cat': 4\n",
        "}\n",
        "\n",
        "priority_queue = []\n",
        "\n",
        "for element in queue:\n",
        "  heapq.heappush(priority_queue, (priority_values[element], element))\n",
        "\n",
        "result_list = [element for _, element in priority_queue]\n",
        "\n",
        "print(' '.join(result_list))"
      ],
      "metadata": {
        "colab": {
          "base_uri": "https://localhost:8080/"
        },
        "id": "kUvpQHPoa9fT",
        "outputId": "c95d98c6-e1a9-4c19-d6ac-6a14ce572f4b"
      },
      "execution_count": 10,
      "outputs": [
        {
          "output_type": "stream",
          "name": "stdout",
          "text": [
            "Hamster Bird Dog Cat Rabbit\n"
          ]
        }
      ]
    },
    {
      "cell_type": "markdown",
      "source": [
        "#### 5. Create a Sorted Circular Queue\n",
        "\n",
        "Given the queue below,\n",
        "\n",
        "**Queue:**\n",
        "\n",
        "| 1 | 5 | 3 | 2 | 7 | 8 | 10 | 11 | 6 | 4 | 12 | 9\n",
        "| --- | --- | --- | --- | --- | --- | --- | --- | --- | --- | --- | --- |\n",
        "\n",
        "\n",
        "**dequeue** each element and insert them into a **Circular Queue** in the following order below:\n",
        "\n",
        "**Circular Queue:**\n",
        "\n",
        "<img src=\"clock1.png\"/>\n",
        "\n",
        "**Expected output:**\n",
        "\n",
        "1 2 3 4 5 6 7 8 9 10 11 12"
      ],
      "metadata": {
        "id": "l1SJeD3ubAKL"
      }
    },
    {
      "cell_type": "code",
      "source": [
        "# put your answer here\n",
        "from collections import deque\n",
        "\n",
        "queue = [1, 5, 3, 2, 7, 8, 10, 11, 6, 4, 12, 9]\n",
        "\n",
        "circular_queue = deque(maxlen=len(queue))\n",
        "\n",
        "for item in sorted(queue):\n",
        "    circular_queue.append(item)\n",
        "\n",
        "result_list = list(circular_queue)\n",
        "\n",
        "result_str = ' '.join(map(str, result_list))\n",
        "\n",
        "print(result_str)"
      ],
      "metadata": {
        "colab": {
          "base_uri": "https://localhost:8080/"
        },
        "id": "eQo3cK-DbB-z",
        "outputId": "776e661e-967d-402f-c8ed-650536339852"
      },
      "execution_count": 11,
      "outputs": [
        {
          "output_type": "stream",
          "name": "stdout",
          "text": [
            "1 2 3 4 5 6 7 8 9 10 11 12\n"
          ]
        }
      ]
    }
  ]
}