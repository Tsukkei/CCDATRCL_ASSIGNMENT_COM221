{
  "nbformat": 4,
  "nbformat_minor": 0,
  "metadata": {
    "colab": {
      "provenance": [],
      "authorship_tag": "ABX9TyPUjJWS13OCgXQZzlKVaum9",
      "include_colab_link": true
    },
    "kernelspec": {
      "name": "python3",
      "display_name": "Python 3"
    },
    "language_info": {
      "name": "python"
    }
  },
  "cells": [
    {
      "cell_type": "markdown",
      "metadata": {
        "id": "view-in-github",
        "colab_type": "text"
      },
      "source": [
        "<a href=\"https://colab.research.google.com/github/Tsukkei/CCDATRCL_ASSIGNMENT_COM221/blob/main/exercise5.ipynb\" target=\"_parent\"><img src=\"https://colab.research.google.com/assets/colab-badge.svg\" alt=\"Open In Colab\"/></a>"
      ]
    },
    {
      "cell_type": "markdown",
      "source": [
        "# Exercise 5"
      ],
      "metadata": {
        "id": "Kb_dYneiDJei"
      }
    },
    {
      "cell_type": "markdown",
      "source": [
        "#### 1. Create a dictionary of your 10 favorite songs."
      ],
      "metadata": {
        "id": "85X4g3s9DLbp"
      }
    },
    {
      "cell_type": "markdown",
      "source": [
        "Example:\n",
        "\n",
        "|KEY|VALUE|\n",
        "|---|---|\n",
        "|001|My Love|\n",
        "|002|Like a rose|"
      ],
      "metadata": {
        "id": "wDwUuJoEDNzB"
      }
    },
    {
      "cell_type": "code",
      "execution_count": 55,
      "metadata": {
        "colab": {
          "base_uri": "https://localhost:8080/"
        },
        "id": "1CPLz8ErCkzZ",
        "outputId": "925d88bf-f2ef-4c66-d215-eb942ed6999e"
      },
      "outputs": [
        {
          "output_type": "stream",
          "name": "stdout",
          "text": [
            "{'001': 'Love', '002': 'Stitches', '003': 'Mercy', '004': \"There's Nothing Holding me back\", '005': '3D', '006': 'Unang Sayaw', '007': 'Fleeting Lullaby', '008': 'Ikaw Parin', '009': 'Realist', '010': 'Backlight'}\n"
          ]
        }
      ],
      "source": [
        "# put your answer here\n",
        "\n",
        "mydictionary = {\n",
        "    \"001\" : \"Love\",\n",
        "    \"002\" : \"Stitches\",\n",
        "    \"003\" : \"Mercy\",\n",
        "    \"004\" : \"There's Nothing Holding me back\",\n",
        "    \"005\" : \"3D\",\n",
        "    \"006\" : \"Unang Sayaw\",\n",
        "    \"007\" : \"Fleeting Lullaby\",\n",
        "    \"008\" : \"Ikaw Parin\",\n",
        "    \"009\" : \"Realist\",\n",
        "    \"010\" : \"Backlight\",\n",
        "}\n",
        "print(mydictionary)"
      ]
    },
    {
      "cell_type": "markdown",
      "source": [
        "#### 2. Loop through the dictionary by its **key** and **value**"
      ],
      "metadata": {
        "id": "VvDNDFI3Dxyx"
      }
    },
    {
      "cell_type": "code",
      "source": [
        "# put your answer here\n",
        "\n",
        "for i in mydictionary:\n",
        "  print(i)"
      ],
      "metadata": {
        "colab": {
          "base_uri": "https://localhost:8080/"
        },
        "id": "CbILrWPZDyRJ",
        "outputId": "23c7a7a1-cecc-49db-b577-614aaad1743c"
      },
      "execution_count": 56,
      "outputs": [
        {
          "output_type": "stream",
          "name": "stdout",
          "text": [
            "001\n",
            "002\n",
            "003\n",
            "004\n",
            "005\n",
            "006\n",
            "007\n",
            "008\n",
            "009\n",
            "010\n"
          ]
        }
      ]
    },
    {
      "cell_type": "markdown",
      "source": [
        "#### 3. Add one additional song"
      ],
      "metadata": {
        "id": "NmyhRdUOEj__"
      }
    },
    {
      "cell_type": "code",
      "source": [
        "#put your answer here\n",
        "\n",
        "mydictionary[\"011\"] = \"Smooth Criminal\"\n",
        "mydictionary"
      ],
      "metadata": {
        "colab": {
          "base_uri": "https://localhost:8080/"
        },
        "id": "OWis4aKAEm7w",
        "outputId": "a7902c79-967e-49f7-dc2b-7dd98c4ab86a"
      },
      "execution_count": 57,
      "outputs": [
        {
          "output_type": "execute_result",
          "data": {
            "text/plain": [
              "{'001': 'Love',\n",
              " '002': 'Stitches',\n",
              " '003': 'Mercy',\n",
              " '004': \"There's Nothing Holding me back\",\n",
              " '005': '3D',\n",
              " '006': 'Unang Sayaw',\n",
              " '007': 'Fleeting Lullaby',\n",
              " '008': 'Ikaw Parin',\n",
              " '009': 'Realist',\n",
              " '010': 'Backlight',\n",
              " '011': 'Smooth Criminal'}"
            ]
          },
          "metadata": {},
          "execution_count": 57
        }
      ]
    },
    {
      "cell_type": "markdown",
      "source": [
        "#### 4. Remove one song"
      ],
      "metadata": {
        "id": "8zRnR_LpE6T3"
      }
    },
    {
      "cell_type": "code",
      "source": [
        "#put your answer here\n",
        "\n",
        "mydictionary.pop(\"002\")\n",
        "mydictionary"
      ],
      "metadata": {
        "colab": {
          "base_uri": "https://localhost:8080/"
        },
        "id": "iOQEFwIzE84y",
        "outputId": "7dc586bd-5667-41ab-cc30-5a9c8a26e2df"
      },
      "execution_count": 58,
      "outputs": [
        {
          "output_type": "execute_result",
          "data": {
            "text/plain": [
              "{'001': 'Love',\n",
              " '003': 'Mercy',\n",
              " '004': \"There's Nothing Holding me back\",\n",
              " '005': '3D',\n",
              " '006': 'Unang Sayaw',\n",
              " '007': 'Fleeting Lullaby',\n",
              " '008': 'Ikaw Parin',\n",
              " '009': 'Realist',\n",
              " '010': 'Backlight',\n",
              " '011': 'Smooth Criminal'}"
            ]
          },
          "metadata": {},
          "execution_count": 58
        }
      ]
    },
    {
      "cell_type": "markdown",
      "source": [
        "#### 5. Create a nested dictionary of your 10 favorite songs with 5 genres. Display all of the items of the nested dictionary\n",
        "\n",
        "- Each nested dictionary's key should be the genre of the song\n",
        "- Put each song in their respective genre"
      ],
      "metadata": {
        "id": "0Jj-4giBFKRn"
      }
    },
    {
      "cell_type": "code",
      "source": [
        "#put your answer here\n",
        "\n",
        "mydictionary = {\n",
        "  \"RnB\" : {\n",
        "    \"001\" : \"Love\",\n",
        "    \"006\" : \"Unang Sayaw\",\n",
        "    \"007\" : \"Ang Wakas\",\n",
        "    \"003\" : \"Mercy\",\n",
        "    \"008\" : \"Ikaw Parin\"\n",
        "  },\n",
        "  \"Rock\" : {\n",
        "    \"011\" : \"Smooth Criminal\",\n",
        "    \"010\" : \"Backlight\",\n",
        "  },\n",
        "  \"Rap\" : {\n",
        "    \"009\" : \"Realist\",\n",
        "    \"007\" : \"Fleeting Lullaby\"\n",
        "  },\n",
        "  \"Pop\" : {\n",
        "    \"004\": \"There's Nothing Holding me back\",\n",
        "    \"005\" : \"3D\"\n",
        "  }\n",
        "}\n",
        "\n",
        "mydictionary"
      ],
      "metadata": {
        "colab": {
          "base_uri": "https://localhost:8080/"
        },
        "id": "T2pOkYwAFNSn",
        "outputId": "59760a26-2e2d-4c21-f0ec-73886505ae54"
      },
      "execution_count": 59,
      "outputs": [
        {
          "output_type": "execute_result",
          "data": {
            "text/plain": [
              "{'RnB': {'001': 'Love',\n",
              "  '006': 'Unang Sayaw',\n",
              "  '007': 'Ang Wakas',\n",
              "  '003': 'Mercy',\n",
              "  '008': 'Ikaw Parin'},\n",
              " 'Rock': {'011': 'Smooth Criminal', '010': 'Backlight'},\n",
              " 'Rap': {'009': 'Realist', '007': 'Fleeting Lullaby'},\n",
              " 'Pop': {'004': \"There's Nothing Holding me back\", '005': '3D'}}"
            ]
          },
          "metadata": {},
          "execution_count": 59
        }
      ]
    },
    {
      "cell_type": "markdown",
      "source": [
        "#### 6. Print the first song of the first genre"
      ],
      "metadata": {
        "id": "5PQJJvTeHxMU"
      }
    },
    {
      "cell_type": "code",
      "source": [
        "print(mydictionary[\"RnB\"][\"001\"])"
      ],
      "metadata": {
        "colab": {
          "base_uri": "https://localhost:8080/"
        },
        "id": "gtcAvf4EH2_c",
        "outputId": "8ec3f2fb-6f58-4690-8395-6b62e6fb2f3a"
      },
      "execution_count": 60,
      "outputs": [
        {
          "output_type": "stream",
          "name": "stdout",
          "text": [
            "Love\n"
          ]
        }
      ]
    },
    {
      "cell_type": "markdown",
      "source": [
        "#### 7. Print the first song of the last genre"
      ],
      "metadata": {
        "id": "J68_KQ7xH3Vb"
      }
    },
    {
      "cell_type": "code",
      "source": [
        "#put your answer here\n",
        "\n",
        "print(mydictionary[\"Pop\"][\"005\"])"
      ],
      "metadata": {
        "colab": {
          "base_uri": "https://localhost:8080/"
        },
        "id": "Y3kmDg_NH9-b",
        "outputId": "ca0384aa-7c25-4414-bab6-4f8ec87aaa8f"
      },
      "execution_count": 61,
      "outputs": [
        {
          "output_type": "stream",
          "name": "stdout",
          "text": [
            "3D\n"
          ]
        }
      ]
    }
  ]
}