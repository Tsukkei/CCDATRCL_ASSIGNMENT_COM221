{
  "nbformat": 4,
  "nbformat_minor": 0,
  "metadata": {
    "colab": {
      "provenance": [],
      "authorship_tag": "ABX9TyOh+GyW0J0F0e6c1ec57EGd",
      "include_colab_link": true
    },
    "kernelspec": {
      "name": "python3",
      "display_name": "Python 3"
    },
    "language_info": {
      "name": "python"
    }
  },
  "cells": [
    {
      "cell_type": "markdown",
      "metadata": {
        "id": "view-in-github",
        "colab_type": "text"
      },
      "source": [
        "<a href=\"https://colab.research.google.com/github/Tsukkei/CCDATRCL_ASSIGNMENT_COM221/blob/main/exercise6.ipynb\" target=\"_parent\"><img src=\"https://colab.research.google.com/assets/colab-badge.svg\" alt=\"Open In Colab\"/></a>"
      ]
    },
    {
      "cell_type": "markdown",
      "source": [
        "# Exercise 6"
      ],
      "metadata": {
        "id": "SOHTiysEXcYI"
      }
    },
    {
      "cell_type": "markdown",
      "source": [
        "#### Pre-defined code"
      ],
      "metadata": {
        "id": "fYxi6mpKXeKP"
      }
    },
    {
      "cell_type": "code",
      "source": [
        "class Node:\n",
        "    def __init__(self, item):\n",
        "        self.left = None\n",
        "        self.right = None\n",
        "        self.val = item"
      ],
      "metadata": {
        "id": "hyOb0l3eXkUO"
      },
      "execution_count": 27,
      "outputs": []
    },
    {
      "cell_type": "code",
      "source": [
        "def inorder(root):\n",
        "\n",
        "    if root:\n",
        "        # Traverse left\n",
        "        inorder(root.left)\n",
        "        # Traverse root\n",
        "        print(str(root.val) + \"->\", end='')\n",
        "        # Traverse right\n",
        "        inorder(root.right)\n",
        "\n",
        "def postorder(root):\n",
        "\n",
        "    if root:\n",
        "        # Traverse left\n",
        "        postorder(root.left)\n",
        "        # Traverse right\n",
        "        postorder(root.right)\n",
        "        # Traverse root\n",
        "        print(str(root.val) + \"->\", end='')\n",
        "\n",
        "def preorder(root):\n",
        "\n",
        "    if root:\n",
        "        # Traverse root\n",
        "        print(str(root.val) + \"->\", end='')\n",
        "        # Traverse left\n",
        "        preorder(root.left)\n",
        "        # Traverse right\n",
        "        preorder(root.right)"
      ],
      "metadata": {
        "id": "niCtgt_sXmA-"
      },
      "execution_count": 28,
      "outputs": []
    },
    {
      "cell_type": "markdown",
      "source": [
        "#### 1. Construct Create your own company org chart and put yourself as CEO.\n",
        "\n",
        "Using a Tree data structure,\n",
        "\n",
        "- Assign yourself as CEO\n",
        "\n",
        "- Assign any of your classmate as HR Director\n",
        "- Assign any of your classmate as Sales Director\n",
        "\n",
        "- Assign any of your classmate as trainee. His/her boss is the HR Director\n",
        "- Assign any of your classmate as a staff and trainee. Their boss is the Sales Director\n"
      ],
      "metadata": {
        "id": "cS5d2t-jXnfO"
      }
    },
    {
      "cell_type": "code",
      "source": [
        "# put your answer here\n",
        "root = Node(\"CEO: Earl \")\n",
        "root.left = Node(\"HR Director: Allen \")\n",
        "root.right = Node(\"Sales Director: Rovic \")\n",
        "root.left.left = Node(\"Trainee: Miko \")\n",
        "root.right.right = Node(\"Trainee: Kalli \")\n",
        "root.right.left = Node(\"Trainee: Boybie \")\n"
      ],
      "metadata": {
        "id": "q0hY7pTuXpj2"
      },
      "execution_count": 29,
      "outputs": []
    },
    {
      "cell_type": "markdown",
      "source": [
        "#### 2. Traverse the tree in in-order traversal"
      ],
      "metadata": {
        "id": "0e1KBoHuXrfn"
      }
    },
    {
      "cell_type": "code",
      "source": [
        "#put your answer here\n",
        "print(\"Inorder traversal \")\n",
        "inorder(root)\n"
      ],
      "metadata": {
        "colab": {
          "base_uri": "https://localhost:8080/"
        },
        "id": "MTG1knfeXtmn",
        "outputId": "e1c714b9-e8e7-4518-82f7-b5b313f8b279"
      },
      "execution_count": 30,
      "outputs": [
        {
          "output_type": "stream",
          "name": "stdout",
          "text": [
            "Inorder traversal \n",
            "Trainee: Miko ->HR Director: Allen ->CEO: Earl ->Trainee: Boybie ->Sales Director: Rovic ->Trainee: Kalli ->"
          ]
        }
      ]
    },
    {
      "cell_type": "markdown",
      "source": [
        "#### 3. Traverse the tree in pre-order traversal"
      ],
      "metadata": {
        "id": "ZK5UEbRtXvqf"
      }
    },
    {
      "cell_type": "code",
      "source": [
        "#put your answer here\n",
        "print(\"\\nPreorder traversal \")\n",
        "preorder(root)"
      ],
      "metadata": {
        "colab": {
          "base_uri": "https://localhost:8080/"
        },
        "id": "j166dfH-YCPW",
        "outputId": "463f8e12-2b5c-44a3-d45f-6c41be792a78"
      },
      "execution_count": 31,
      "outputs": [
        {
          "output_type": "stream",
          "name": "stdout",
          "text": [
            "\n",
            "Preorder traversal \n",
            "CEO: Earl ->HR Director: Allen ->Trainee: Miko ->Sales Director: Rovic ->Trainee: Boybie ->Trainee: Kalli ->"
          ]
        }
      ]
    },
    {
      "cell_type": "markdown",
      "source": [
        "#### 4. Traverse the tree in post-order traversal"
      ],
      "metadata": {
        "id": "sZN0PAjnYMP-"
      }
    },
    {
      "cell_type": "code",
      "source": [
        "#put your answer here\n",
        "print(\"\\nPostorder traversal \")\n",
        "postorder(root)"
      ],
      "metadata": {
        "colab": {
          "base_uri": "https://localhost:8080/"
        },
        "id": "pllcJIj4YNIW",
        "outputId": "0323b567-607a-4a0b-c1e3-93e84a9f95ec"
      },
      "execution_count": 32,
      "outputs": [
        {
          "output_type": "stream",
          "name": "stdout",
          "text": [
            "\n",
            "Postorder traversal \n",
            "Trainee: Miko ->HR Director: Allen ->Trainee: Boybie ->Trainee: Kalli ->Sales Director: Rovic ->CEO: Earl ->"
          ]
        }
      ]
    }
  ]
}