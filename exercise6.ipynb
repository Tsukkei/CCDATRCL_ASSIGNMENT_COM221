{
  "nbformat": 4,
  "nbformat_minor": 0,
  "metadata": {
    "colab": {
      "provenance": [],
      "authorship_tag": "ABX9TyPLEebRJbVeRRKdPjDGifbA",
      "include_colab_link": true
    },
    "kernelspec": {
      "name": "python3",
      "display_name": "Python 3"
    },
    "language_info": {
      "name": "python"
    }
  },
  "cells": [
    {
      "cell_type": "markdown",
      "metadata": {
        "id": "view-in-github",
        "colab_type": "text"
      },
      "source": [
        "<a href=\"https://colab.research.google.com/github/Tsukkei/CCDATRCL_ASSIGNMENT_COM221/blob/main/exercise6.ipynb\" target=\"_parent\"><img src=\"https://colab.research.google.com/assets/colab-badge.svg\" alt=\"Open In Colab\"/></a>"
      ]
    },
    {
      "cell_type": "markdown",
      "source": [
        "# Exercise 6"
      ],
      "metadata": {
        "id": "SOHTiysEXcYI"
      }
    },
    {
      "cell_type": "markdown",
      "source": [
        "#### Pre-defined code"
      ],
      "metadata": {
        "id": "fYxi6mpKXeKP"
      }
    },
    {
      "cell_type": "code",
      "source": [
        "class Node:\n",
        "    def __init__(self, item):\n",
        "        self.left = None\n",
        "        self.right = None\n",
        "        self.val = item"
      ],
      "metadata": {
        "id": "hyOb0l3eXkUO"
      },
      "execution_count": 15,
      "outputs": []
    },
    {
      "cell_type": "code",
      "source": [
        "def inorder(root):\n",
        "\n",
        "    if root:\n",
        "        # Traverse left\n",
        "        inorder(root.left)\n",
        "        # Traverse root\n",
        "        print(str(root.val) + \"->\", end='')\n",
        "        # Traverse right\n",
        "        inorder(root.right)\n",
        "\n",
        "def postorder(root):\n",
        "\n",
        "    if root:\n",
        "        # Traverse left\n",
        "        postorder(root.left)\n",
        "        # Traverse right\n",
        "        postorder(root.right)\n",
        "        # Traverse root\n",
        "        print(str(root.val) + \"->\", end='')\n",
        "\n",
        "def preorder(root):\n",
        "\n",
        "    if root:\n",
        "        # Traverse root\n",
        "        print(str(root.val) + \"->\", end='')\n",
        "        # Traverse left\n",
        "        preorder(root.left)\n",
        "        # Traverse right\n",
        "        preorder(root.right)"
      ],
      "metadata": {
        "id": "niCtgt_sXmA-"
      },
      "execution_count": 16,
      "outputs": []
    },
    {
      "cell_type": "markdown",
      "source": [
        "#### 1. Construct Create your own company org chart and put yourself as CEO.\n",
        "\n",
        "Using a Tree data structure,\n",
        "\n",
        "- Assign yourself as CEO\n",
        "\n",
        "- Assign any of your classmate as HR Director\n",
        "- Assign any of your classmate as Sales Director\n",
        "\n",
        "- Assign any of your classmate as trainee. His/her boss is the HR Director\n",
        "- Assign any of your classmate as a staff and trainee. Their boss is the Sales Director\n"
      ],
      "metadata": {
        "id": "cS5d2t-jXnfO"
      }
    },
    {
      "cell_type": "code",
      "source": [
        "# put your answer here\n",
        "root = Node(\"Earl\")\n",
        "root.left = Node(\"Allen\")\n",
        "root.right = Node(\"Rovic\")\n",
        "root.left.left = Node(\"Miko\")\n",
        "root.right.right = Node(\"Kalli\")\n",
        "root.right.left = Node(\"Boybie\")\n"
      ],
      "metadata": {
        "id": "q0hY7pTuXpj2"
      },
      "execution_count": 17,
      "outputs": []
    },
    {
      "cell_type": "markdown",
      "source": [
        "#### 2. Traverse the tree in in-order traversal"
      ],
      "metadata": {
        "id": "0e1KBoHuXrfn"
      }
    },
    {
      "cell_type": "code",
      "source": [
        "#put your answer here\n",
        "print(\"Inorder traversal \")\n",
        "inorder(root)\n"
      ],
      "metadata": {
        "colab": {
          "base_uri": "https://localhost:8080/"
        },
        "id": "MTG1knfeXtmn",
        "outputId": "01040fd3-c40b-4edc-fda4-6f31d587891b"
      },
      "execution_count": 18,
      "outputs": [
        {
          "output_type": "stream",
          "name": "stdout",
          "text": [
            "Inorder traversal \n",
            "Miko->Allen->Earl->Boybie->Rovic->Kalli->"
          ]
        }
      ]
    },
    {
      "cell_type": "markdown",
      "source": [
        "#### 3. Traverse the tree in pre-order traversal"
      ],
      "metadata": {
        "id": "ZK5UEbRtXvqf"
      }
    },
    {
      "cell_type": "code",
      "source": [
        "#put your answer here\n",
        "print(\"\\nPreorder traversal \")\n",
        "preorder(root)"
      ],
      "metadata": {
        "colab": {
          "base_uri": "https://localhost:8080/"
        },
        "id": "j166dfH-YCPW",
        "outputId": "4ca9bcc0-7b55-459e-c592-6492fc3240c8"
      },
      "execution_count": 19,
      "outputs": [
        {
          "output_type": "stream",
          "name": "stdout",
          "text": [
            "\n",
            "Preorder traversal \n",
            "Earl->Allen->Miko->Rovic->Boybie->Kalli->"
          ]
        }
      ]
    },
    {
      "cell_type": "markdown",
      "source": [
        "#### 4. Traverse the tree in post-order traversal"
      ],
      "metadata": {
        "id": "sZN0PAjnYMP-"
      }
    },
    {
      "cell_type": "code",
      "source": [
        "#put your answer here\n",
        "print(\"\\nPostorder traversal \")\n",
        "postorder(root)"
      ],
      "metadata": {
        "colab": {
          "base_uri": "https://localhost:8080/"
        },
        "id": "pllcJIj4YNIW",
        "outputId": "03cf5e2e-5887-44f2-c22d-84097a36c39b"
      },
      "execution_count": 20,
      "outputs": [
        {
          "output_type": "stream",
          "name": "stdout",
          "text": [
            "\n",
            "Postorder traversal \n",
            "Miko->Allen->Boybie->Kalli->Rovic->Earl->"
          ]
        }
      ]
    }
  ]
}